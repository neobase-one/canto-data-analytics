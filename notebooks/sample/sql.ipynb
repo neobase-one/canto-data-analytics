{
 "cells": [
  {
   "attachments": {},
   "cell_type": "markdown",
   "metadata": {},
   "source": [
    "## Canto Transaction Data Analytics\n"
   ]
  },
  {
   "cell_type": "code",
   "execution_count": null,
   "metadata": {},
   "outputs": [],
   "source": [
    "import pandas as pd\n",
    "import pandas.io.sql as sqlio\n",
    "\n",
    "import psycopg2\n"
   ]
  },
  {
   "cell_type": "code",
   "execution_count": null,
   "metadata": {},
   "outputs": [],
   "source": [
    "pd.set_option('display.max_columns', None)\n"
   ]
  },
  {
   "attachments": {},
   "cell_type": "markdown",
   "metadata": {},
   "source": [
    "### SQL Queries"
   ]
  },
  {
   "cell_type": "code",
   "execution_count": null,
   "metadata": {},
   "outputs": [],
   "source": [
    "## Postgres Connection\n",
    "# NOTE: do not commit db connection details into git\n",
    "HOST = ''\n",
    "PORT = 5432\n",
    "USERNAME = ''\n",
    "PASSWORD = ''\n",
    "DATABASE = ''\n",
    "\n",
    "connection = psycopg2.connect(\n",
    "        \"host='{}' port={} dbname='{}' user={} password={}\".format(HOST, PORT, DATABASE, USERNAME, PASSWORD)\n",
    "    )\n"
   ]
  },
  {
   "cell_type": "code",
   "execution_count": null,
   "metadata": {},
   "outputs": [],
   "source": [
    "## Sample query\n",
    "transactions_query = \"\"\"\n",
    "        SELECT *,\n",
    "            encode(hash::bytea, 'hex') as hash_hex,\n",
    "            encode(block_hash::bytea, 'hex') as block_hash_hex,\n",
    "            encode(from_address_hash::bytea, 'hex') as from_address_hash_hex,\n",
    "            encode(to_address_hash::bytea, 'hex') as to_address_hash_hex\n",
    "        FROM public.transactions \n",
    "        LIMIT 10\n",
    "    \"\"\"\n",
    "\n",
    "# load sql query result as dataframe\n",
    "df = sqlio.read_sql_query(con=connection, sql=transactions_query)"
   ]
  },
  {
   "cell_type": "code",
   "execution_count": null,
   "metadata": {},
   "outputs": [],
   "source": [
    "df"
   ]
  },
  {
   "cell_type": "code",
   "execution_count": null,
   "metadata": {},
   "outputs": [],
   "source": [
    "df.loc[1]"
   ]
  },
  {
   "attachments": {},
   "cell_type": "markdown",
   "metadata": {},
   "source": []
  }
 ],
 "metadata": {
  "kernelspec": {
   "display_name": "Python 3.10.8 64-bit",
   "language": "python",
   "name": "python3"
  },
  "language_info": {
   "codemirror_mode": {
    "name": "ipython",
    "version": 3
   },
   "file_extension": ".py",
   "mimetype": "text/x-python",
   "name": "python",
   "nbconvert_exporter": "python",
   "pygments_lexer": "ipython3",
   "version": "3.10.8"
  },
  "orig_nbformat": 4,
  "vscode": {
   "interpreter": {
    "hash": "b0fa6594d8f4cbf19f97940f81e996739fb7646882a419484c72d19e05852a7e"
   }
  }
 },
 "nbformat": 4,
 "nbformat_minor": 2
}
