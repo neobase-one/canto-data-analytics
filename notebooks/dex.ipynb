{
 "cells": [
  {
   "attachments": {},
   "cell_type": "markdown",
   "metadata": {},
   "source": [
    "## Canto DEX Data Analytics\n"
   ]
  },
  {
   "cell_type": "code",
   "execution_count": null,
   "metadata": {},
   "outputs": [],
   "source": [
    "import pandas as pd\n",
    "from gql import Client, gql\n",
    "from gql.transport.requests import RequestsHTTPTransport"
   ]
  },
  {
   "attachments": {},
   "cell_type": "markdown",
   "metadata": {},
   "source": [
    "## GraphQL Queries"
   ]
  },
  {
   "cell_type": "code",
   "execution_count": null,
   "metadata": {},
   "outputs": [],
   "source": [
    "## GraphQL Connection\n",
    "# NOTE: do not commit api url details into git\n",
    "API_URL = ''\n",
    "\n",
    "_transport = RequestsHTTPTransport(\n",
    "    url=API_URL,\n",
    "    use_json=True,\n",
    ")\n",
    "\n",
    "client = Client(\n",
    "    transport=_transport,\n",
    "    fetch_schema_from_transport=True,\n",
    ")"
   ]
  },
  {
   "cell_type": "code",
   "execution_count": null,
   "metadata": {},
   "outputs": [],
   "source": [
    "## Sample Query\n",
    "query_string = \"\"\"\n",
    "query Pairs {\n",
    "  pairs {\n",
    "    id\n",
    "    stable\n",
    "    token0 {\n",
    "      name\n",
    "    }\n",
    "    token1 {\n",
    "      name\n",
    "    }\n",
    "    reserve0\n",
    "    reserve1\n",
    "    totalSupply\n",
    "    reserveETH\n",
    "    token1Price\n",
    "    token0Price\n",
    "    token1Price\n",
    "    volumeToken0\n",
    "    volumeToken1\n",
    "    txCount\n",
    "    liquidityProviderCount\n",
    "    mints {\n",
    "      id\n",
    "    }\n",
    "    burns {\n",
    "      id\n",
    "    }\n",
    "    swaps {\n",
    "      id\n",
    "    }\n",
    "  }\n",
    "}\n",
    "\"\"\"\n",
    "query = gql(query_string)\n",
    "\n",
    "# query result\n",
    "result = client.execute(query)\n",
    "\n"
   ]
  },
  {
   "cell_type": "code",
   "execution_count": null,
   "metadata": {},
   "outputs": [],
   "source": [
    "# result as dataframe\n",
    "df = pd.json_normalize(result['pairs'])\n",
    "df"
   ]
  },
  {
   "cell_type": "code",
   "execution_count": null,
   "metadata": {},
   "outputs": [],
   "source": [
    "df.loc[1]"
   ]
  },
  {
   "cell_type": "markdown",
   "metadata": {},
   "source": []
  }
 ],
 "metadata": {
  "kernelspec": {
   "display_name": "Python 3.10.8 ('venv': venv)",
   "language": "python",
   "name": "python3"
  },
  "language_info": {
   "codemirror_mode": {
    "name": "ipython",
    "version": 3
   },
   "file_extension": ".py",
   "mimetype": "text/x-python",
   "name": "python",
   "nbconvert_exporter": "python",
   "pygments_lexer": "ipython3",
   "version": "3.10.8"
  },
  "orig_nbformat": 4,
  "vscode": {
   "interpreter": {
    "hash": "08b121b9f2822fe6fc804e5f56b11a1af6e1d635842f262322783d64be5d4fa2"
   }
  }
 },
 "nbformat": 4,
 "nbformat_minor": 2
}
